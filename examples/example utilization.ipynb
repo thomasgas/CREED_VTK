{
 "cells": [
  {
   "cell_type": "code",
   "execution_count": null,
   "metadata": {},
   "outputs": [],
   "source": [
    "from ctapipe.io import event_source\n",
    "from ctapipe.calib import CameraCalibrator\n",
    "from ctapipe.utils import get_dataset\n",
    "from ctapipe.image import tailcuts_clean\n",
    "from ctapipe.reco import HillasReconstructor\n",
    "from ctapipe.image import hillas_parameters\n",
    "import astropy.units as u\n",
    "import numpy as np\n",
    "import copy\n",
    "from ctapipe.visualization import CameraDisplay\n",
    "import matplotlib.pyplot as plt\n",
    "%matplotlib inline"
   ]
  },
  {
   "cell_type": "code",
   "execution_count": null,
   "metadata": {},
   "outputs": [],
   "source": [
    "from IPython.core.display import display, HTML\n",
    "display(HTML(\"<style>.container { width:95% !important; }</style>\"))"
   ]
  },
  {
   "cell_type": "code",
   "execution_count": null,
   "metadata": {},
   "outputs": [],
   "source": [
    "class HillasNotFinite(Exception):\n",
    "    \"\"\"\n",
    "    Error to be raised when hillas parameters are not finite\n",
    "    \"\"\" \n",
    "    pass\n",
    "\n",
    "def reconstruction(event):\n",
    "    features = {}\n",
    "    hillas_dict = {}\n",
    "    pointing_azimuth = {}\n",
    "    pointing_altitude = {}\n",
    "    \n",
    "    for tel_id in event.r0.tels_with_data:\n",
    "        dl1 = event.dl1.tel[tel_id]\n",
    "        camera = event.inst.subarray.tels[tel_id].camera\n",
    "        mask = tailcuts_clean(camera, dl1.image[0], \n",
    "                              boundary_thresh=5, \n",
    "                              picture_thresh=10, \n",
    "                              min_number_picture_neighbors=0)\n",
    "        telescope_type_name = event.inst.subarray.tels[tel_id].optics.tel_type\n",
    "        dl1.cleaned = copy.copy(dl1.image[0])\n",
    "        cleaned = dl1.cleaned\n",
    "        cleaned[~mask] = 0\n",
    "        \n",
    "        if cleaned.sum() > 0:\n",
    "            try:\n",
    "                h = hillas_parameters(camera,\n",
    "                                      cleaned)\n",
    "                if not all(map(np.isfinite, h.values())):\n",
    "                    raise HillasNotFinite(\"bad Hillas parameters\")\n",
    "                    \n",
    "                hillas_dict[tel_id] = h\n",
    "                pointing_azimuth[tel_id] = event.mc.tel[tel_id].azimuth_raw * u.rad\n",
    "                pointing_altitude[tel_id] = ((np.pi/2) - event.mc.tel[tel_id].altitude_raw )* u.rad # this is weird to say the least. \n",
    "            except HillasNotFinite:\n",
    "                pass\n",
    "        else:\n",
    "            pass\n",
    "\n",
    "    if len(hillas_dict) < 2:\n",
    "        print(\"mono\")\n",
    "        reconstruction = None\n",
    "    else:\n",
    "        reconstruction = hillas_reco.predict(hillas_dict, event.inst, pointing_azimuth, pointing_altitude)\n",
    "    return reconstruction"
   ]
  },
  {
   "cell_type": "code",
   "execution_count": null,
   "metadata": {},
   "outputs": [],
   "source": [
    "pwd = \"/home/thomas/Programs/astro/CTAPIPE_DAN/\"\n",
    "# filename = 'gamma_20deg_0deg_run100___cta-prod3-lapalma3-2147m-LaPalma_cone10.simtel.gz'\n",
    "filename = 'gamma_20deg_0deg_run100___cta-prod3_desert-2150m-Paranal-merged.simtel.gz'\n",
    "# filename = 'gamma_20deg_0deg_run118___cta-prod3_desert-2150m-Paranal-merged_cone10.simtel.gz'\n",
    "# filename = 'gamma_20deg_180deg_run11___cta-prod3_desert-2150m-Paranal-merged_cone10.simtel.gz'\n",
    "\n",
    "#layout = np.loadtxt(pwd+'CTA.prod3Sb.3HB9-FG.lis', usecols=0, dtype=int)\n",
    "\n",
    "filename = pwd + filename\n",
    "# if \"Paranal\" in filename:\n",
    "#     layout = [4, 5, 6, 11]\n",
    "#     print(\"PARANAL WITH {0}\".format(layout))\n",
    "# elif \"palma\" in filename:\n",
    "#     layout = [5, 6, 7, 8]\n",
    "#     print(\"LAPALMA WITH {0}\".format(layout))\n",
    "# \n",
    "# print(\"Layout telescopes IDs:\".format(layout))\n",
    "\n",
    "#layout = set(layout)\n",
    "\n",
    "source = event_source(filename)\n",
    "source.max_events = 10\n",
    "#source.allowed_tels = layout\n",
    "events = [copy.deepcopy(event) for event in source]"
   ]
  },
  {
   "cell_type": "code",
   "execution_count": null,
   "metadata": {},
   "outputs": [],
   "source": [
    "# Calibration\n",
    "cal = CameraCalibrator(None, None, r1_product='HESSIOR1Calibrator', extractor_product='NeighbourPeakIntegrator')\n",
    "for event in events:\n",
    "    cal.calibrate(event)\n",
    "    \n",
    "# Find \"big\" event\n",
    "events_amplitude = []\n",
    "for event in events:\n",
    "    event_amplitude = 0\n",
    "    for tel_id in event.r0.tels_with_data:\n",
    "        if event.dl1.tel[tel_id].image is not None:\n",
    "            event_amplitude += event.dl1.tel[tel_id].image[0].sum()\n",
    "    events_amplitude.append(event_amplitude)\n",
    "events_amplitude = np.array(events_amplitude)\n",
    "\n",
    "mm = events_amplitude.argmax()\n",
    "\n",
    "print(mm)\n",
    "event = events[mm]\n",
    "# 8 is a nice mono\n",
    "\n",
    "# Hillas reconstruction\n",
    "hillas_reco = HillasReconstructor()\n",
    "reco = reconstruction(event)"
   ]
  },
  {
   "cell_type": "code",
   "execution_count": null,
   "metadata": {},
   "outputs": [],
   "source": [
    "event.r0.tels_with_data"
   ]
  },
  {
   "cell_type": "code",
   "execution_count": null,
   "metadata": {
    "scrolled": true
   },
   "outputs": [],
   "source": [
    "print(event.mc.tel[37].azimuth_raw)\n",
    "print(event.mc.tel[37].altitude_raw*180/np.pi)\n",
    "event.mc.tel[37]"
   ]
  },
  {
   "cell_type": "code",
   "execution_count": null,
   "metadata": {},
   "outputs": [],
   "source": [
    "event.inst.subarray.optics_types"
   ]
  },
  {
   "cell_type": "code",
   "execution_count": null,
   "metadata": {},
   "outputs": [],
   "source": [
    "info = {'CHEC': [],\n",
    "        'ASTRICam': [],\n",
    "        'LSTCam': [],\n",
    "        'FlashCam': [],\n",
    "        'DigiCam': [],\n",
    "        'NectarCam': [],\n",
    "        'SCTCam': [],\n",
    "       }\n"
   ]
  },
  {
   "cell_type": "code",
   "execution_count": null,
   "metadata": {
    "scrolled": false
   },
   "outputs": [],
   "source": [
    "list(info.keys())"
   ]
  },
  {
   "cell_type": "code",
   "execution_count": null,
   "metadata": {},
   "outputs": [],
   "source": [
    "info"
   ]
  },
  {
   "cell_type": "code",
   "execution_count": null,
   "metadata": {},
   "outputs": [],
   "source": [
    "from astropy.io import ascii\n"
   ]
  },
  {
   "cell_type": "code",
   "execution_count": null,
   "metadata": {},
   "outputs": [],
   "source": [
    "ascii.write(info, names=list(info.keys()), output=\"file.dat\")\n"
   ]
  },
  {
   "cell_type": "code",
   "execution_count": null,
   "metadata": {},
   "outputs": [],
   "source": [
    "!more file.dat"
   ]
  },
  {
   "cell_type": "code",
   "execution_count": null,
   "metadata": {},
   "outputs": [],
   "source": [
    "event = events[4]\n",
    "for tel_id in event.r0.tels_with_data:\n",
    "    telescope = event.inst.subarray.tel[tel_id]\n",
    "    #info[telescope.camera.cam_id] = [telescope.camera.pix_x, telescope.camera.pix_y ]\n",
    "    print(\"{0};   \\t{1}    \\t  {2} \".format(telescope.optics.identifier[0], telescope.camera.cam_id, telescope.camera.pix_x.shape))\n",
    "    "
   ]
  },
  {
   "cell_type": "code",
   "execution_count": null,
   "metadata": {
    "scrolled": false
   },
   "outputs": [],
   "source": [
    "ncol = 4\n",
    "nrow = len(event.r0.tels_with_data)//ncol + 1 * (len(event.r0.tels_with_data)%ncol > 0)\n",
    "fs = 6\n",
    "\n",
    "fig, axes = plt.subplots(nrow, ncol, figsize=(fs*ncol, fs*nrow))\n",
    "\n",
    "hillas_dict = {}\n",
    "for ii, tel_id in enumerate(event.r0.tels_with_data):\n",
    "    camera = event.inst.subarray.tel[tel_id].camera\n",
    "    image = event.dl1.tel[tel_id].image[0]\n",
    "    r0 = event.r0.tel[tel_id].image[0]\n",
    "    cleaned = event.dl1.tel[tel_id].cleaned\n",
    "    print(len(np.nonzero(cleaned)[0]))\n",
    "    disp = CameraDisplay(camera, cleaned, ax = axes.ravel()[ii])\n",
    "    disp.axes.set_title(\"{0}_{1}\".format(str(tel_id), disp.geom.cam_id))\n",
    "    if cleaned.sum() > 0:\n",
    "        hillas = hillas_parameters(camera, cleaned)\n",
    "        hillas_dict[tel_id] = hillas\n",
    "        #disp = CameraDisplay(camera, cleaned, ax=axes.ravel()[ii])\n",
    "        disp.overlay_moments(hillas, color='RED', linewidth=3, zorder=10)\n",
    "plt.show()"
   ]
  },
  {
   "cell_type": "code",
   "execution_count": 2,
   "metadata": {},
   "outputs": [
    {
     "ename": "ModuleNotFoundError",
     "evalue": "No module named 'CREED_VTK.renderclass'",
     "output_type": "error",
     "traceback": [
      "\u001b[0;31m---------------------------------------------------------------------------\u001b[0m",
      "\u001b[0;31mModuleNotFoundError\u001b[0m                       Traceback (most recent call last)",
      "\u001b[0;32m<ipython-input-2-e38fa8503788>\u001b[0m in \u001b[0;36m<module>\u001b[0;34m()\u001b[0m\n\u001b[0;32m----> 1\u001b[0;31m \u001b[0;32mimport\u001b[0m \u001b[0mCREED_VTK\u001b[0m\u001b[0;34m\u001b[0m\u001b[0m\n\u001b[0m",
      "\u001b[0;32m~/Programs/anaconda3/envs/cta-dev/lib/python3.6/site-packages/CREED_VTK/__init__.py\u001b[0m in \u001b[0;36m<module>\u001b[0;34m()\u001b[0m\n\u001b[1;32m      2\u001b[0m \u001b[0;31m# To be used together with ctapipe\u001b[0m\u001b[0;34m\u001b[0m\u001b[0;34m\u001b[0m\u001b[0m\n\u001b[1;32m      3\u001b[0m \u001b[0;34m\u001b[0m\u001b[0m\n\u001b[0;32m----> 4\u001b[0;31m \u001b[0;32mfrom\u001b[0m \u001b[0;34m.\u001b[0m\u001b[0mrenderclass\u001b[0m \u001b[0;32mimport\u001b[0m \u001b[0;34m*\u001b[0m\u001b[0;34m\u001b[0m\u001b[0m\n\u001b[0m\u001b[1;32m      5\u001b[0m \u001b[0;34m\u001b[0m\u001b[0m\n\u001b[1;32m      6\u001b[0m \u001b[0m__all__\u001b[0m \u001b[0;34m=\u001b[0m \u001b[0;34m[\u001b[0m\u001b[0;34m'CREED_VTK'\u001b[0m\u001b[0;34m]\u001b[0m\u001b[0;34m\u001b[0m\u001b[0m\n",
      "\u001b[0;31mModuleNotFoundError\u001b[0m: No module named 'CREED_VTK.renderclass'"
     ]
    }
   ],
   "source": [
    "import CREED_VTK "
   ]
  },
  {
   "cell_type": "code",
   "execution_count": null,
   "metadata": {},
   "outputs": [],
   "source": []
  }
 ],
 "metadata": {
  "kernelspec": {
   "display_name": "Python 3",
   "language": "python",
   "name": "python3"
  },
  "language_info": {
   "codemirror_mode": {
    "name": "ipython",
    "version": 3
   },
   "file_extension": ".py",
   "mimetype": "text/x-python",
   "name": "python",
   "nbconvert_exporter": "python",
   "pygments_lexer": "ipython3",
   "version": "3.6.5"
  }
 },
 "nbformat": 4,
 "nbformat_minor": 2
}
